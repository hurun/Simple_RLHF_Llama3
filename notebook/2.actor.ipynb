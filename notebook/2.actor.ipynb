{
 "cells": [
  {
   "cell_type": "code",
   "execution_count": 1,
   "id": "812564dd",
   "metadata": {},
   "outputs": [
    {
     "name": "stderr",
     "output_type": "stream",
     "text": [
      "Special tokens have been added in the vocabulary, make sure the associated word embeddings are fine-tuned or trained.\n"
     ]
    },
    {
     "data": {
      "text/plain": [
       "(tensor([128000,   5269,    527, 128001]),\n",
       " tensor([1, 1, 1, 1]),\n",
       " '<|begin_of_text|>how are<|end_of_text|>')"
      ]
     },
     "execution_count": 1,
     "metadata": {},
     "output_type": "execute_result"
    }
   ],
   "source": [
    "import torch\n",
    "import random\n",
    "\n",
    "from util import TokenizerUtil\n",
    "\n",
    "tokenizer = TokenizerUtil()\n",
    "\n",
    "input_ids, attention_mask = tokenizer.encode('how are you', max_length=4)\n",
    "\n",
    "input_ids, attention_mask, tokenizer.decode(input_ids)"
   ]
  },
  {
   "cell_type": "code",
   "execution_count": 2,
   "id": "c137a8c5",
   "metadata": {
    "scrolled": true
   },
   "outputs": [
    {
     "data": {
      "text/plain": [
       "(7500, dict_keys(['input_ids', 'attention_mask', 'labels']))"
      ]
     },
     "execution_count": 2,
     "metadata": {},
     "output_type": "execute_result"
    }
   ],
   "source": [
    "from datasets import load_dataset\n",
    "from transformers import default_data_collator\n",
    "\n",
    "dataset = load_dataset('json', data_files='dataset/train.json', split='train')\n",
    "\n",
    "#4,2,4切分,取第0部分\n",
    "dataset = dataset.select(range(30000))\n",
    "\n",
    "\n",
    "def f(data):\n",
    "    #随机生成两种回答\n",
    "    if random.random() > 0.5:\n",
    "        data['chosen'] = data['chosen'].swapcase()\n",
    "    data = data['prompt'] + data['chosen']\n",
    "\n",
    "    input_ids, attention_mask = tokenizer.encode(data)\n",
    "\n",
    "    return {\n",
    "        'input_ids': input_ids,\n",
    "        'attention_mask': attention_mask,\n",
    "        'labels': input_ids.clone()\n",
    "    }\n",
    "\n",
    "\n",
    "dataset = dataset.map(f, remove_columns=dataset.column_names)\n",
    "\n",
    "loader = torch.utils.data.DataLoader(dataset,\n",
    "                                     collate_fn=default_data_collator,\n",
    "                                     batch_size=4,\n",
    "                                     shuffle=True,\n",
    "                                     drop_last=True)\n",
    "\n",
    "len(loader), next(iter(loader)).keys()"
   ]
  },
  {
   "cell_type": "code",
   "execution_count": 3,
   "id": "8f753020",
   "metadata": {},
   "outputs": [
    {
     "name": "stderr",
     "output_type": "stream",
     "text": [
      "Detected kernel version 3.10.0, which is below the recommended minimum of 5.5.0; this can cause the process to hang. It is recommended to upgrade the kernel to the minimum version or higher.\n"
     ]
    }
   ],
   "source": [
    "%run 1.model.ipynb\n",
    "from accelerate import Accelerator\n",
    "\n",
    "model_actor = LlamaForCausalLM()\n",
    "\n",
    "model_actor.train()\n",
    "\n",
    "optimizer = torch.optim.Adam(model_actor.parameters(), lr=1e-4)\n",
    "\n",
    "accelerator = Accelerator(mixed_precision='fp16')\n",
    "\n",
    "loader, model_actor, optimizer = accelerator.prepare(loader, model_actor,\n",
    "                                                     optimizer)"
   ]
  },
  {
   "cell_type": "code",
   "execution_count": 4,
   "id": "6d76f82c",
   "metadata": {
    "scrolled": false
   },
   "outputs": [
    {
     "name": "stdout",
     "output_type": "stream",
     "text": [
      "99 7500 2.580916404724121\n",
      "Human: context= CREATE TABLE table_name1 ( ( (1 (date VARCHAR VARCHAR, score VARCHAR VARCHAR VARCHAR) question= What had of player is201? the?5 the where:SELECT MIN = = table_name1 FROM\"_1 WHERE date\"\" = \"201<|end_of_text|>\n",
      "199 7500 2.2653822898864746\n",
      "Human: context= CREATE TABLE table_name_1 (points VARCHAR, date_par VARCHAR) name VARCHAR) question= What is the lowest of the? has a??? of Assistant:select count from TABLE_NAME_1 where NAMEURN = \"1 WHERE<|end_of_text|>\n",
      "299 7500 1.2085587978363037\n",
      "Human: context= CREATE TABLE table_name_17 (date VARCHARub_team, name VARCHAR) question= Which date has has a score? 2? Assistant:select date fromub_team table_name_17 WHERE date > \"2<|end_of_text|>\n",
      "399 7500 1.7112624645233154\n",
      "Human: context= CREATE TABLE table_name_61 (time VARCHAR VARCHARpercentage, year VARCHAR) question= What many rounds has a of than 200? Assistant:SELECT min()) frompercentage from SCORE from TABLE_NAME_1 where VINS < 200<|end_of_text|>\n",
      "499 7500 1.2300198078155518\n",
      "Human: context= CREATE TABLE table ( (name VARCHAR VARCHAR, question= Show many episodes number, for the average?.? Assistant:SELECT count(*)inct fromOUNTRY) from from t from where<|reserved_special_token_0|><|reserved_special_token_0|><|reserved_special_token_0|><|reserved_special_token_0|><|reserved_special_token_0|><|reserved_special_token_0|><|reserved_special_token_0|><|reserved_special_token_0|><|reserved_special_token_0|><|reserved_special_token_0|><|reserved_special_token_0|><|reserved_special_token_0|><|reserved_special_token_0|><|reserved_special_token_0|><|reserved_special_token_0|><|reserved_special_token_0|><|reserved_special_token_0|><|reserved_special_token_0|><|reserved_special_token_0|><|reserved_special_token_0|><|reserved_special_token_0|><|reserved_special_token_0|><|reserved_special_token_0|><|reserved_special_token_0|><|reserved_special_token_0|><|reserved_special_token_0|><|reserved_special_token_0|><|reserved_special_token_0|><|reserved_special_token_0|><|reserved_special_token_0|><|reserved_special_token_0|><|reserved_special_token_0|><|reserved_special_token_0|><|reserved_special_token_0|><|reserved_special_token_0|><|reserved_special_token_0|><|reserved_special_token_0|><|reserved_special_token_0|><|reserved_special_token_0|><|reserved_special_token_0|><|reserved_special_token_0|><|reserved_special_token_0|><|reserved_special_token_0|><|reserved_special_token_0|><|reserved_special_token_0|><|reserved_special_token_0|><|reserved_special_token_0|><|reserved_special_token_0|><|reserved_special_token_0|><|reserved_special_token_0|><|reserved_special_token_0|><|reserved_special_token_0|><|reserved_special_token_0|><|reserved_special_token_0|><|reserved_special_token_0|><|reserved_special_token_0|><|reserved_special_token_0|><|reserved_special_token_0|><|reserved_special_token_0|><|reserved_special_token_0|><|reserved_special_token_0|><|reserved_special_token_0|><|reserved_special_token_0|><|reserved_special_token_0|><|reserved_special_token_0|><|reserved_special_token_0|><|reserved_special_token_0|><|reserved_special_token_0|><|reserved_special_token_0|><|reserved_special_token_0|><|reserved_special_token_0|><|reserved_special_token_0|><|reserved_special_token_0|><|reserved_special_token_0|><|reserved_special_token_0|><|reserved_special_token_0|><|reserved_special_token_0|><|reserved_special_token_0|><|reserved_special_token_0|><|reserved_special_token_0|><|reserved_special_token_0|><|reserved_special_token_0|><|reserved_special_token_0|><|reserved_special_token_0|><|reserved_special_token_0|><|reserved_special_token_0|><|reserved_special_token_0|><|reserved_special_token_0|>\n",
      "599 7500 1.3484395742416382\n",
      "Human: context= CREATE TABLE table_name_56 (date VARCHAR, date_team VARCHAR) question= What is has the team that at  the team team???? Assistant:SELECT COUNT FROM table_name_81 WHERE date_team = \"m\"\"\"<|end_of_text|>\n",
      "699 7500 1.3227816820144653\n",
      "Human: context= CREATE TABLE table_name_51 (score VARCHAR, player_team VARCHAR) question= What is did theendon with player team? Assistant:SELECT score FROM table_name_51 WHERE player_team = \"j\"\"<|end_of_text|>\n",
      "799 7500 1.151515007019043\n",
      "Human: context= CREATE TABLE table_name_24 (score VARCHAR, date VARCHAR) question= What is the score of  with3 when Assistant:SELECT SCORE from TABLE_NAME_24 where DATE = \"0<|end_of_text|>\n",
      "899 7500 1.2060338258743286\n",
      "Human: context= CREATE TABLE table_name1346272_1 (firstumbent VARCHAR, player VARCHAR) question= What the episode for the york 1 Assistant:select COUNT FROM table_1342272_1 WHERE season = \"1<|end_of_text|>\n",
      "999 7500 1.4802578687667847\n",
      "Human: context= CREATE TABLE table_13424528_1 (date VARCHAR, first_club_team VARCHAR) question= What the away of the for the Assistant?:SELECT score() FROM table_13416479_1 WHERE player_club_team = \"j\"<|end_of_text|>\n",
      "1099 7500 1.6712290048599243\n",
      "Human: context= CREATE TABLE table_name134751_1 (first VARCHAR VARCHAR VARCHARnumber_ VARCHAR, district VARCHAR VARCHAR VARCHARnumber__team VARCHAR) question= What is the  of the for the? Assistant  ?? had?200?? the??? Assistant:select COUNT______number_ FROM table_134762_1 WHERE district____number__team = \"m\"<|end_of_text|>\n",
      "1199 7500 0.923566460609436\n",
      "Human: context= CREATE TABLE table_name_90 (score VARCHAR VARCHAR, year VARCHAR) question= What is the name  of the player from by 18? Assistant:select COUNT FROM FROM table_name_90 WHERE year = \"18\"<|end_of_text|>\n",
      "1299 7500 1.7374563217163086\n",
      "Human: context= CREATE TABLE table_name_97 (year VARCHAR, year VARCHAR) player VARCHAR) question= What did the score when the with has a Round of 1- Assistant:select SCORE from TABLE_NAME_97 where YEAR = \"1 - PLAYEROUNTRY = \"200STRAL\"\"<|end_of_text|>\n",
      "1399 7500 1.4690676927566528\n",
      "Human: context= CREATE TABLE table_name_7 (date VARCHAR VARCHAR, name VARCHAR VARCHAR, losses VARCHAR) losses VARCHAR) question= What is the average amount of of the,, is a than 6, and the than 6. and? Assistant:SELECT SUM(brinsent) FROM table_name_7 WHERE position > 6 AND position = \"2uly\"\" AND player > > 6<|end_of_text|>\n",
      "1499 7500 2.430217981338501\n",
      "Human: context= CREATE TABLE table_name_50 (date VARCHAR, attendance VARCHAR, question= What is the attendance of  6? Assistant:select sum(ATTENDANCE) from TABLE_NAME_50 where WEEK = \"6<|end_of_text|>\n",
      "1599 7500 2.184309720993042\n",
      "Human: context= CREATE TABLE table_name_86 (dateers__number_ VARCHAR, date_) question= What is the total for for the?2??200?? year??? 2?5?? the? than 2? Assistant:SELECT count(POP_ NDPER_ from TABLE_NAME_86 where INCERS__M_ > \"2.5. GS 2<|end_of_text|>\n",
      "1699 7500 1.3150277137756348\n",
      "Human: context= CREATE TABLE table_name1342188_1 (result_bonus VARCHAR, team VARCHAR VARCHAR VARCHAR) question= What many points team were in the game in score?2??27? Assistant:select COUNT(week_bonus FROM FROM table_1342188_3 WHERE team = = = \"3/ 37\"<|end_of_text|>\n",
      "1799 7500 1.9151005744934082\n",
      "Human: context= CREATE TABLE table_name_44 (attendance VARCHAR, score VARCHAR) attendance VARCHAR) attendancebruary VARCHAR) question= What is the, when Date is \" than 0, and Attendance  \" than 5, and the Attendanceonent is \"???? Assistant:select score FROM table_name_44 WHERE opponent < 0 AND opponentbruary > 0 AND opponent = \" Center AND<|end_of_text|>\n",
      "1899 7500 1.002498984336853\n",
      "Human: context= CREATE TABLE table_name21583850_1 (dateles VARCHAR, year_finish VARCHAR) question= What the total for    1 Assistant5 Assistant:SELECT city FROM table_2288381_1 WHERE engine_finish = \"2.5.<|end_of_text|>\n",
      "1999 7500 0.9089885354042053\n",
      "Human: context= CREATE TABLE table_name_97 (player_elected VARCHAR, season VARCHAR) season VARCHAR) question= What is the total for elected for when the year is \", and when the season is \"??assis? Assistant:select HIGH_EIGHTED from TABLE_NAME_97 where M = \"H\" and WIN = \"HAW\"\"AMP\"<|end_of_text|>\n",
      "2099 7500 1.5865423679351807\n",
      "Human: context= CREATE TABLE table_name_90 (date VARCHAR, rank VARCHAR, rank VARCHAR) question= What is the highest rank for the rank Kingdom with with a than 1 silver?? Assistant:SELECT avg(RANK) from TABLE_NAME_71 where RATION = \"AED STATES\" and RONZE > 4<|end_of_text|>\n",
      "2199 7500 1.261182188987732\n",
      "Human: context= CREATE TABLE table_name_60 (date VARCHAR VARCHAR, question= What is the  for for a  of? 12? a? 2009? Assistant:SELECT COUNT FROM FROM table_name_60 WHERE season2012 = \"1\"<|end_of_text|>\n"
     ]
    },
    {
     "name": "stdout",
     "output_type": "stream",
     "text": [
      "2299 7500 2.171806573867798\n",
      "Human: context= CREATE TABLE table_name_94 (year VARCHARade VARCHAR, name VARCHAR) name VARCHAR VARCHARade VARCHAR) question= What is the final thatris when the frequency of thatris that a frequency of ??le??ret????�?�?? Assistant:select CH fromADE from TABLE_NAME_94 where CH qualify = = =ADE = \"B\"IE\" and CAMES = \"<|end_of_text|>\n",
      "2399 7500 0.9664218425750732\n",
      "Human: context= CREATE TABLE table (name_id VARCHAR, staff VARCHAR VARCHAR VARCHAR VARCHAR); question= Show are the names of the game common year by Assistant:SELECT T_id FROM staff WHERE BY date_of_idaced WHERE<|end_of_text|>\n",
      "2499 7500 1.1220698356628418\n",
      "Human: context= CREATE TABLE table_name_93 (score VARCHAR, date VARCHAR) tournament VARCHAR) question= Which is the surface for the, with with with a Score  of of Assistant:SELECT surface FROM table_name_94 WHERE tournament = \"k\"\" AND tournament = \"kinn\"<|end_of_text|>\n",
      "2599 7500 1.056701421737671\n",
      "Human: context= CREATE TABLE table_name_98 (score INTEGER, year VARCHAR) question= What is the's'selong name, Assistant:SELECT class FROM table_name_47 WHERE name = \"t\"\"\"<|end_of_text|>\n",
      "2699 7500 1.2372409105300903\n",
      "Human: context= CREATE TABLE table_name_63 (date VARCHAR, year VARCHAR, year VARCHAR) year VARCHAR) question= What is the average of when a Team of otland, andari, and team of ari?2?200?1??? and a than 2 points? Assistant:SELECT SUM(year) FROM table_name_4 WHERE points = \"4\"\"\"\"\" AND team = \"4oundedari\"2\"2\"4\"\" WHERE<|end_of_text|>\n",
      "2799 7500 0.8842527270317078\n",
      "Human: context= CREATE TABLE table_name17191800_1 (date VARCHAR, player VARCHAR) question= What is is the player who \"?? the Assistant:SELECT country FROM table_17191800_11 WHERE name = \"s\"\"<|end_of_text|>\n",
      "2899 7500 0.995907187461853\n",
      "Human: context= CREATE TABLE table_name_1 (op VARCHAR, score VARCHAR) question= What is the score of the game  the the winner? theOUNTRYIL??? Assistant:SELECT score FROM table_name_15 WHERE winner = \"w:\" pético\"<|end_of_text|>\n",
      "2999 7500 0.6469451785087585\n",
      "Human: context= CREATE TABLE table_name_33 (date VARCHAR, event VARCHAR) question= What event was aou????? the Opp? Assistant:SELECT event FROM table_name_55 WHERE opponent = \"h: c\"\"\"\"<|end_of_text|>\n",
      "3099 7500 1.0786387920379639\n",
      "Human: context= CREATE TABLE table_name_33 (date VARCHAR) question= What is2009 has a in a 2009, and a200r in a 2001? Assistant:select 2008 FROM table_name_40 WHERE 2009 = \"2\" AND 2000 = \"2r\"<|end_of_text|>\n",
      "3199 7500 1.061753749847412\n",
      "Human: context= CREATE TABLE table_name_35 (year VARCHAR, country VARCHAR) rank VARCHAR) question= What was a rank of 3, a rank of 1? Assistant:select DRIVERLETE from TABLE_NAME_30 where RANK > 17 and TOTAL < \"17\"<|end_of_text|>\n",
      "3299 7500 0.6720775961875916\n",
      "Human: context= CREATE TABLE table_name_89 (time INTEGER, rank VARCHAR, rank VARCHAR, rank VARCHAR, question= What is the highest of the for the is less1 gold and when is less than 1? and when is less1? Assistant:SELECT MAX(rank) FROM table_name_28 WHERE bronze = \"1 AND bronze < 1 AND bronze > \"2 AND<|reserved_special_token_0|><|reserved_special_token_0|><|reserved_special_token_0|><|reserved_special_token_0|><|reserved_special_token_0|><|reserved_special_token_0|><|reserved_special_token_0|><|reserved_special_token_0|><|reserved_special_token_0|><|reserved_special_token_0|><|reserved_special_token_0|><|reserved_special_token_0|><|reserved_special_token_0|><|reserved_special_token_0|><|reserved_special_token_0|><|reserved_special_token_0|><|reserved_special_token_0|><|reserved_special_token_0|><|reserved_special_token_0|><|reserved_special_token_0|><|reserved_special_token_0|><|reserved_special_token_0|><|reserved_special_token_0|><|reserved_special_token_0|><|reserved_special_token_0|><|reserved_special_token_0|><|reserved_special_token_0|><|reserved_special_token_0|><|reserved_special_token_0|><|reserved_special_token_0|><|reserved_special_token_0|><|reserved_special_token_0|><|reserved_special_token_0|><|reserved_special_token_0|><|reserved_special_token_0|><|reserved_special_token_0|><|reserved_special_token_0|><|reserved_special_token_0|><|reserved_special_token_0|><|reserved_special_token_0|><|reserved_special_token_0|><|reserved_special_token_0|><|reserved_special_token_0|><|reserved_special_token_0|><|reserved_special_token_0|><|reserved_special_token_0|><|reserved_special_token_0|><|reserved_special_token_0|><|reserved_special_token_0|><|reserved_special_token_0|>\n",
      "3399 7500 1.1214607954025269\n",
      "Human: context= CREATE TABLE table_name_36 (date VARCHAR, question= What is the year200nd leg for the26? Assistant:SELECT YEAR200 from _ from from TABLE_NAME_29 where YEAR = \"2004<|end_of_text|>\n",
      "3499 7500 1.3677738904953003\n",
      "Human: context= CREATE TABLE table_name_79 (date VARCHAR, rankdate VARCHAR, production__) question= What is the average area of a average date of  1, and2008? more? than 1?5? Assistant:SELECT MIN(erp) FROM table_name_8 WHERE viewersdate = \"aparch 21, 2008\" AND viewers > 15<|end_of_text|>\n",
      "3599 7500 1.3752254247665405\n",
      "Human: context= CREATE TABLE table (product VARCHAR, YEAR VARCHARol VARCHAR) question= What are the names of the year with the mostest number in by Assistant:select DISTINCT FROM STUD WHERE BY COUNT<|end_of_text|>\n",
      "3699 7500 1.3163763284683228\n",
      "Human: context= CREATE TABLE table_name_89 (date INTEGER, grid VARCHAR, question= What is the highest grid when L2 laps? Assistant:SELECT AVG(grid) FROM table_name_89 WHERE laps = 27<|end_of_text|>\n",
      "3799 7500 1.0671190023422241\n",
      "Human: context= CREATE TABLE table_name_39 (date VARCHAR, date VARCHAR, location VARCHAR) question= What location the location for the match with a round of than 3 and the Opp? the???? Hill? Assistant:select LOCATION from TABLE_NAME_62 where ROUND > 1 and OPPONENT = \"TANW\"\"PE\"\"\"\"<|end_of_text|>\n",
      "3899 7500 1.5615041255950928\n",
      "Human: context= CREATE TABLE table_name_12 (date_score VARCHAR VARCHAR, _ VARCHAR) question= What was the builder in in in  year 2007? Assistant:SELECT FSMIUE TABLE_NAME_83 where YEAR = \"2002\"<|end_of_text|>\n",
      "3999 7500 1.7335063219070435\n",
      "Human: context= CREATE TABLE table_name_76 (date_gp_periodupn VARCHAR, year_f2 VARCHAR VARCHAR) __of_km__) question= What want the value_gp_periodolumbia for for  ofwood for for  tell and200__,ickets� 200. 2000 Assistant:SELECT premiere_gp_periodupn FROM table_name_77 WHERE date_ficao = = \"4a\"197\"\"ickets� AND date =corkm__ \"f\" 2011\"<|end_of_text|>\n",
      "4099 7500 1.1969261169433594\n",
      "Human: context= CREATE TABLE table_name_90 (date VARCHAR, round VARCHAR) position VARCHAR) question= What round the round number of round when when Player is \"United, when when Player is \"T\"?\"? Assistant:select count(ROUND) from TABLE_NAME_94 where POSITION = \"TNEY and PLAYER = \"DR JIRUS\"\"<|end_of_text|>\n",
      "4199 7500 0.8642573952674866\n",
      "Human: context= CREATE TABLE table_name_8 (date INTEGER, points VARCHAR, points VARCHAR VARCHAR) question= What many losses did a than 18 and a than 1 points? points? Assistant:select sum(LOST) from TABLE_NAME_2 where YEARS_FOR 1884 W >OWN > 4<|end_of_text|>\n",
      "4299 7500 1.124887466430664\n",
      "Human: context= CREATE TABLE table_name_75 (dateider INTEGER, wins VARCHAR, year VARCHAR) question= What many losses have the team / de  have have have a Assistant:select sum(ACES) from TABLE_NAME_2 where SERIES = \"MY\"\"\"\"\" and TEAM = \"SYO<|end_of_text|>\n",
      "4399 7500 1.0497549772262573\n",
      "Human: context= CREATE TABLE table (name VARCHAR, id1 VARCHAR INTEGER); question= Find is the name of the player with the  numbernage? Assistant:select Name FROM products WHERE BY T1<|end_of_text|>\n",
      "4499 7500 0.8882243037223816\n",
      "Human: context= CREATE TABLE table_name_2 (player VARCHAR) question= What is the 2009 value when with a 1999 value? 1r and 1994 is?? Assistant:SELECT 1993 FROM table_name_92 WHERE 1999 = \"A\"\" AND 1999 = \"Ar\"<|end_of_text|>\n",
      "4599 7500 0.7369502782821655\n",
      "Human: context= CREATE TABLE table_name_51 (year VARCHAR, opponent VARCHAR) question= What is date of the Venue played the Venue? had at the park? Assistant:select date FROM table_name_25 WHERE venue = \"western\" park\"<|end_of_text|>\n",
      "4699 7500 0.48929062485694885\n",
      "Human: context= CREATE TABLE table_name_13 (venue VARCHAR, opponent VARCHAR VARCHAR) question= What was the score when the gameers team? Assistant:select SCORE from TABLE_NAME_72 where HOME_TEAM = \"MRAYONIDA UNITED<|end_of_text|>\n"
     ]
    },
    {
     "name": "stdout",
     "output_type": "stream",
     "text": [
      "4799 7500 1.487322449684143\n",
      "Human: context= CREATE TABLE table_name_55 (playeroists_order VARCHAR, title VARCHAR) question= What railway has title is a I title of????? Assistant:SELECT platformatial_title FROM table_name_77 WHERE platform = \"kitt\"\"\"\"\"<|end_of_text|>\n",
      "4899 7500 1.3078619241714478\n",
      "Human: context= CREATE TABLE table (name_code, city_codecode VARCHAR); question= Show the name of the of '100. Assistant:select city FROM Student ORDER NOT_code = = '100<|end_of_text|>\n",
      "4999 7500 1.067262887954712\n",
      "Human: context= CREATE TABLE table_name_20 (year INTEGER, question= What is the rank11 value a  of than 1. a 10rer?? Assistant:select 2010 FROM table_name_72 WHERE  > 1 AND 2011 = \"1\"\"\"<|end_of_text|>\n",
      "5099 7500 0.7336298227310181\n",
      "Human: context= CREATE TABLE table_name_92 (dateponent VARCHAR_the_final VARCHAR, date VARCHAR) question= Who was the opponent in the final on December2/ 2009? Assistant:SELECT OPPONENT_IN_THE_FINAL from TABLE_NAME_43 where DATE = \"24/VEMBER 2008\"<|end_of_text|>\n",
      "5199 7500 1.463667392730713\n",
      "Human: context= CREATE TABLE table_name1349486_1 (seasonors_scoremres_ VARCHAR, _ VARCHAR VARCHAR) question= What is the COM (mres) of the skip? the skip is is the.??? Assistant:select i__mres_ FROM table_1499486_1 WHERE skipper = \"BOSH &\"\"<|end_of_text|>\n",
      "5299 7500 0.6031734943389893\n",
      "Human: context= CREATE TABLE table_name_26 (date VARCHAR, competition_team) question= What is has a Home team as the? Assistant:select date FROM table_name_48 WHERE home = \"pifornia\"<|end_of_text|>\n",
      "5399 7500 0.8110824227333069\n",
      "Human: context= CREATE TABLE table_name_79 (score VARCHAR, team VARCHAR VARCHAR) question= What team the team score the the race that of thean? Assistant:select TEAM from TABLE_NAME_47 where RACE_TITLE = \"MIL\"\"<|end_of_text|>\n",
      "5499 7500 1.5631228685379028\n",
      "Human: context= CREATE TABLE table_name_12 (daten VARCHAR, wins_municip VARCHAR, winses VARCHAR) question= What is the highest drawn of draws when the team thatintage by thechell, with with and has less than 0 winses? Assistant:select avg(DRAWS) from TABLE_NAME_30 where BYRE =ADEER = \"0AGER\"AMES\"UT\" and BYES < 0<|end_of_text|>\n",
      "5599 7500 0.646583080291748\n",
      "Human: context= CREATE TABLE table_name_7 (year VARCHAR, team VARCHAR) question= What Team has the win-?? Assistant:select TEAM from TABLE_NAME_12 where DRIVER = \"TN\"G\"<|end_of_text|>\n",
      "5699 7500 0.8397965431213379\n",
      "Human: context= CREATE TABLE table_name13492802_1 (location_in, no_by VARCHAR) question= How is the number of episodes episode directed by the?? Assistant:SELECT COUNT FROM table_2230202_3 WHERE directed_by = \"ROM\"\"<|end_of_text|>\n",
      "5799 7500 1.7691051959991455\n",
      "Human: context= CREATE TABLE table_name1582236_1 (no VARCHAR VARCHAR_ VARCHAR VARCHAR, question= What many different is the player km)) the thekg ))?1? Assistant:SELECT COUNT(rank20175) _m__ FROM table_3017575_1 WHERE g__ =__ = \"0<|end_of_text|>\n",
      "5899 7500 0.801114022731781\n",
      "Human: context= CREATE TABLE table_name_50 (op INTEGER, name VARCHAR, wins VARCHAR) position VARCHAR) position VARCHAR) question= What is the highest number for the, a than 0 goals, the,but,,, the position, 8, Assistant:select MIN(rs) FROM table_name_79 WHERE position = \"d\"\"\" AND goals < 1 AND wins = \"m\"\"\"oria\" AND position > 1<|end_of_text|>\n",
      "5999 7500 0.9230417013168335\n",
      "Human: context= CREATE TABLE table_name1342143_1 (first VARCHAR, incumbent VARCHAR) question= What B....as was? incumbent?? the? john:SELECT DISTRICT from TABLE_1341690_5 where INCUMBENT = \"l.IAM h.\"\"OL\"\"\"<|end_of_text|>\n",
      "6099 7500 0.7727141380310059\n",
      "Human: context= CREATE TABLE table_name_50 (away INTEGER, points VARCHAR, points VARCHAR) question= What what is is the swim win in  of in the event? event? Assistant:SELECT games FROM table_name_54 WHERE event = \"john\" AND event = \"m\"\"<|end_of_text|>\n",
      "6199 7500 0.6859897971153259\n",
      "Human: context= CREATE TABLE table_name_78 (attendance VARCHAR VARCHAR, home VARCHAR) date_team VARCHAR) question= Who me the host team for the stadium and a team thefl Assistant Assistant? Assistant:select host_team FROM table_name_57 WHERE stadium = \"vro stadium\" AND visiting_team = \"vincinnati kengland\"<|end_of_text|>\n",
      "6299 7500 1.4127384424209595\n",
      "Human: context= CREATE TABLE table_name_51 (year VARCHAR_short_name VARCHAR, name VARCHAR) question= What is the,'s's percentageIP name?? Assistant:SELECT sip_short_name FROM table_name_58 WHERE network = \"s\"\"<|end_of_text|>\n",
      "6399 7500 1.3877689838409424\n",
      "Human: context= CREATE TABLE table (id_id VARCHAR, customer_id VARCHAR); CREATE TABLE medicine_orders (id_id VARCHAR, question= What the names of the who the order of the... the of.. Assistant:SELECT T1.CUSTOMER_NAME from CUSTOMERS as t1 join CUSTOMERS asERS as t2 on t1.IDUSTOMER_ID = t2.IDUSTOMER_ID group t_NAME_NAME = 'cRIEND'''<|end_of_text|>\n",
      "6499 7500 1.4327834844589233\n",
      "Human: context= CREATE TABLE table_name_68 (date_for, club VARCHAR) club VARCHAR VARCHAR) wins VARCHAR) question= What many goals for a Yearity of land, and a smaller than 200, and a Year larger 1970? Assistant:select sum(GOALS) from TABLE_NAME_78 where YEAR_TEAM = \"WGLAND\" and DS = 201 and YEAR = 2012\" and<|reserved_special_token_0|><|reserved_special_token_0|><|reserved_special_token_0|><|reserved_special_token_0|><|reserved_special_token_0|><|reserved_special_token_0|><|reserved_special_token_0|><|reserved_special_token_0|><|reserved_special_token_0|><|reserved_special_token_0|><|reserved_special_token_0|><|reserved_special_token_0|><|reserved_special_token_0|><|reserved_special_token_0|><|reserved_special_token_0|><|reserved_special_token_0|><|reserved_special_token_0|><|reserved_special_token_0|><|reserved_special_token_0|><|reserved_special_token_0|><|reserved_special_token_0|><|reserved_special_token_0|><|reserved_special_token_0|><|reserved_special_token_0|><|reserved_special_token_0|><|reserved_special_token_0|><|reserved_special_token_0|><|reserved_special_token_0|><|reserved_special_token_0|><|reserved_special_token_0|><|reserved_special_token_0|><|reserved_special_token_0|><|reserved_special_token_0|><|reserved_special_token_0|><|reserved_special_token_0|><|reserved_special_token_0|><|reserved_special_token_0|><|reserved_special_token_0|><|reserved_special_token_0|><|reserved_special_token_0|>\n",
      "6599 7500 1.3097727298736572\n",
      "Human: context= CREATE TABLE table_name_47 (date VARCHAR, finish VARCHAR, year VARCHAR) question= What what finish did the Rodgerselson play? a total of 1? Assistant:SELECT finish FROM table_name_96 WHERE total = \"70 AND player = \"dadelphia\"\"\"<|end_of_text|>\n",
      "6699 7500 1.0719724893569946\n",
      "Human: context= CREATE TABLE table_name27769401_2 (year_date VARCHAR, release_number VARCHAR) question= What is the release date of the number    Assistant:select min(ASON_NUMBER) from TABLE_11369499_1 where CATALOG =_NUMBER = \"j\"\"<|end_of_text|>\n",
      "6799 7500 1.872422456741333\n",
      "Human: context= CREATE TABLE table_name277744751 (date VARCHAR, nickname VARCHAR) question= What  is is is1 is  is4 is  is?2- the number what what is the enrollment? Assistant:SELECT COUNT FROM table_24574442 WHERE power = \"7-- 7-  1\". 1-<|end_of_text|>\n",
      "6899 7500 0.8177440166473389\n",
      "Human: context= CREATE TABLE table_name_88 (score VARCHAR, player VARCHAR) question= What place the Carolina play? Assistant:select PLACE from TABLE_NAME_89 where COUNTRY = \"TOUTH A\"ANK\"<|end_of_text|>\n",
      "6999 7500 0.6571047902107239\n",
      "Human: context= CREATE TABLE table_name_83 (date VARCHAR, country___$____ VARCHAR) score VARCHAR) question= What place the Place when the gol with a1 as  as a score72-72=72=72=210?? Assistant:select place FROM table_name_66 WHERE money___$____ = 68\" \" AND score = 68 - 68 = 68 = 68 = 209<|end_of_text|>\n",
      "7099 7500 1.015152096748352\n",
      "Human: context= CREATE TABLE table_name134744491 (date VARCHAR VARCHAR, season_date VARCHAR) question= What is had the     a   18 september 2008?198?11?11? Assistant:select BOR from from TABLE_245744_2 where RELEASEUNCH_DATE = \"18:ulyY 1980 198 03\"03\"<|end_of_text|>\n",
      "7199 7500 0.6492205858230591\n",
      "Human: context= CREATE TABLE table_name26349489_1 (position INTEGER, rank VARCHARritory VARCHAR) question= What the least total for  kerry of:SELECT MIN(total) FROM table_30054705_1 WHERE country_territory = \"C Carolina\"<|end_of_text|>\n",
      "7299 7500 0.8754575848579407\n",
      "Human: context= CREATE TABLE table_name_68 (year VARCHAR, opponent VARCHAR) question= What what date was the score 6–6- Assistant:select date FROM table_name_84 WHERE score = \"144-105\"<|end_of_text|>\n"
     ]
    },
    {
     "name": "stdout",
     "output_type": "stream",
     "text": [
      "7399 7500 0.5813372135162354\n",
      "Human: context= CREATE TABLE table_name_67 (date INTEGER, rank VARCHAR, question= What is is season 200? Assistant:SELECT rank FROM table_name_28 WHERE season = \"1<|end_of_text|>\n",
      "7499 7500 0.8609915971755981\n",
      "Human: context= CREATE TABLE table_name_47 (opze INTEGER, silver VARCHAR) question= What is the average of bronze medals the total is more than 0? Assistant:SELECT SUM(bronze) FROM table_name_58 WHERE total < 1<|end_of_text|>\n"
     ]
    }
   ],
   "source": [
    "for i, data in enumerate(loader):\n",
    "    loss, logits = model_actor(**data)\n",
    "    accelerator.backward(loss)\n",
    "    accelerator.clip_grad_norm_(model_actor.parameters(), 1.0)\n",
    "    optimizer.step()\n",
    "    optimizer.zero_grad()\n",
    "\n",
    "    if (i + 1) % 100 == 0:\n",
    "        print(i, len(loader), loss.item())\n",
    "        logits = logits[0].argmax(1)\n",
    "        print(tokenizer.decode(logits))\n",
    "\n",
    "torch.save(model_actor.to('cpu'), 'model/actor')"
   ]
  }
 ],
 "metadata": {
  "kernelspec": {
   "display_name": "Python [conda env:cuda117]",
   "language": "python",
   "name": "conda-env-cuda117-py"
  },
  "language_info": {
   "codemirror_mode": {
    "name": "ipython",
    "version": 3
   },
   "file_extension": ".py",
   "mimetype": "text/x-python",
   "name": "python",
   "nbconvert_exporter": "python",
   "pygments_lexer": "ipython3",
   "version": "3.10.13"
  }
 },
 "nbformat": 4,
 "nbformat_minor": 5
}
