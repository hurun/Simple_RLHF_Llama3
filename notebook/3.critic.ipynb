{
 "cells": [
  {
   "cell_type": "code",
   "execution_count": 1,
   "id": "01f23638",
   "metadata": {},
   "outputs": [
    {
     "name": "stderr",
     "output_type": "stream",
     "text": [
      "Special tokens have been added in the vocabulary, make sure the associated word embeddings are fine-tuned or trained.\n"
     ]
    },
    {
     "data": {
      "text/plain": [
       "(tensor([128000,   5269,    527, 128001]),\n",
       " tensor([1, 1, 1, 1]),\n",
       " '<|begin_of_text|>how are<|end_of_text|>')"
      ]
     },
     "execution_count": 1,
     "metadata": {},
     "output_type": "execute_result"
    }
   ],
   "source": [
    "import torch\n",
    "\n",
    "from util import TokenizerUtil\n",
    "\n",
    "tokenizer = TokenizerUtil()\n",
    "\n",
    "input_ids, attention_mask = tokenizer.encode('how are you', max_length=4)\n",
    "\n",
    "input_ids, attention_mask, tokenizer.decode(input_ids)"
   ]
  },
  {
   "cell_type": "code",
   "execution_count": 2,
   "id": "85e428b1",
   "metadata": {},
   "outputs": [
    {
     "data": {
      "text/plain": [
       "(3750, dict_keys(['input_ids', 'attention_mask']))"
      ]
     },
     "execution_count": 2,
     "metadata": {},
     "output_type": "execute_result"
    }
   ],
   "source": [
    "from datasets import load_dataset\n",
    "\n",
    "dataset = load_dataset('json', data_files='dataset/train.json', split='train')\n",
    "\n",
    "#4,2,4切分,取第1部分\n",
    "dataset = dataset.select(range(30000, 45000))\n",
    "\n",
    "\n",
    "def f(data):\n",
    "    #区分两种生成结果\n",
    "    chosen = data['prompt'] + data['chosen'].swapcase()\n",
    "    rejected = data['prompt'] + data['chosen']\n",
    "\n",
    "    chosen_input_ids, chosen_attention_mask = tokenizer.encode(chosen)\n",
    "    rejected_input_ids, rejected_attention_mask = tokenizer.encode(rejected)\n",
    "\n",
    "    return {\n",
    "        'chosen_input_ids': chosen_input_ids,\n",
    "        'chosen_attention_mask': chosen_attention_mask,\n",
    "        'rejected_input_ids': rejected_input_ids,\n",
    "        'rejected_attention_mask': rejected_attention_mask,\n",
    "    }\n",
    "\n",
    "\n",
    "dataset = dataset.map(f)\n",
    "\n",
    "dataset.set_format('torch')\n",
    "\n",
    "\n",
    "def f(data):\n",
    "    chosen_input_ids = [i['chosen_input_ids'] for i in data]\n",
    "    chosen_attention_mask = [i['chosen_attention_mask'] for i in data]\n",
    "    rejected_input_ids = [i['rejected_input_ids'] for i in data]\n",
    "    rejected_attention_mask = [i['rejected_attention_mask'] for i in data]\n",
    "\n",
    "    input_ids = torch.stack(chosen_input_ids + rejected_input_ids, dim=0)\n",
    "    attention_mask = torch.stack(chosen_attention_mask +\n",
    "                                 rejected_attention_mask,\n",
    "                                 dim=0)\n",
    "\n",
    "    return {'input_ids': input_ids, 'attention_mask': attention_mask}\n",
    "\n",
    "\n",
    "loader = torch.utils.data.DataLoader(dataset,\n",
    "                                     collate_fn=f,\n",
    "                                     batch_size=4,\n",
    "                                     shuffle=True,\n",
    "                                     drop_last=True)\n",
    "\n",
    "len(loader), next(iter(loader)).keys()"
   ]
  },
  {
   "cell_type": "code",
   "execution_count": 3,
   "id": "dfa4c50a",
   "metadata": {
    "scrolled": true
   },
   "outputs": [],
   "source": [
    "%run 1.model.ipynb\n",
    "\n",
    "\n",
    "class CriticModel(torch.nn.Module):\n",
    "\n",
    "    def __init__(self):\n",
    "        super().__init__()\n",
    "\n",
    "        self.rwtransformer = LlamaModel()\n",
    "\n",
    "        self.v_head = torch.nn.Linear(1024, 1, bias=False)\n",
    "\n",
    "    def forward(self, input_ids, attention_mask):\n",
    "        value = self.rwtransformer(input_ids=input_ids,\n",
    "                                   attention_mask=attention_mask)\n",
    "\n",
    "        value = self.v_head(value).squeeze(-1)\n",
    "\n",
    "        loss_sum = 0.0\n",
    "        value_chosen_sum = 0.0\n",
    "        value_rejected_sum = 0.0\n",
    "        for input_ids_chosen, input_ids_rejected, value_chosen, value_rejected in zip(\n",
    "                input_ids[:4], input_ids[4:], value[:4], value[4:]):\n",
    "\n",
    "            #找出每条回答中的起止索引\n",
    "            end_chosen = input_ids_chosen.tolist().index(\n",
    "                tokenizer.eos_token_id) + 1\n",
    "            end_rejected = input_ids_rejected.tolist().index(\n",
    "                tokenizer.eos_token_id) + 1\n",
    "            end = max(end_chosen, end_rejected)\n",
    "\n",
    "            start = end - 1\n",
    "            if not (input_ids_chosen == input_ids_rejected).all():\n",
    "                start = (input_ids_chosen == input_ids_rejected\n",
    "                         ).tolist().index(False)\n",
    "\n",
    "            value_chosen = value_chosen[start:end]\n",
    "            value_rejected = value_rejected[start:end]\n",
    "\n",
    "            loss = value_chosen - value_rejected\n",
    "            loss = -torch.nn.functional.logsigmoid(loss).mean()\n",
    "\n",
    "            loss_sum += loss\n",
    "            value_chosen_sum += value_chosen.mean().item()\n",
    "            value_rejected_sum += value_rejected.mean().item()\n",
    "\n",
    "        return loss_sum / 4, value_chosen_sum, value_rejected_sum\n",
    "\n",
    "\n",
    "model_critic = CriticModel()"
   ]
  },
  {
   "cell_type": "code",
   "execution_count": 4,
   "id": "adb14bab",
   "metadata": {},
   "outputs": [
    {
     "name": "stderr",
     "output_type": "stream",
     "text": [
      "Detected kernel version 3.10.0, which is below the recommended minimum of 5.5.0; this can cause the process to hang. It is recommended to upgrade the kernel to the minimum version or higher.\n"
     ]
    }
   ],
   "source": [
    "from accelerate import Accelerator\n",
    "\n",
    "model_critic.train()\n",
    "\n",
    "optimizer = torch.optim.Adam(model_critic.parameters(), lr=5e-5)\n",
    "\n",
    "accelerator = Accelerator(mixed_precision='fp16')\n",
    "\n",
    "loader, model_critic, optimizer = accelerator.prepare(loader, model_critic,\n",
    "                                                      optimizer)"
   ]
  },
  {
   "cell_type": "code",
   "execution_count": 5,
   "id": "7838daa6",
   "metadata": {
    "scrolled": false
   },
   "outputs": [
    {
     "name": "stdout",
     "output_type": "stream",
     "text": [
      "99 3750 2.8967857360839844e-05 25.953125 -50.3359375\n",
      "199 3750 8.046627044677734e-06 46.1640625 -42.390625\n",
      "299 3750 7.748603820800781e-07 20.90625 -61.40625\n",
      "399 3750 5.960464477539063e-08 29.734375 -60.9296875\n",
      "499 3750 3.5762786865234375e-07 24.10546875 -58.765625\n",
      "599 3750 5.960464477539063e-08 29.8671875 -59.6015625\n",
      "699 3750 0.0 32.01953125 -59.421875\n",
      "799 3750 1.1920928955078125e-07 24.4296875 -57.96875\n",
      "899 3750 0.0 37.28125 -59.109375\n",
      "999 3750 0.0 39.6484375 -60.734375\n",
      "1099 3750 0.0 38.625 -60.6953125\n",
      "1199 3750 0.0 40.84375 -60.1953125\n",
      "1299 3750 1.1920928955078125e-07 33.953125 -58.734375\n",
      "1399 3750 0.0 37.8203125 -60.109375\n",
      "1499 3750 0.0 36.140625 -59.578125\n",
      "1599 3750 0.0 41.15625 -59.421875\n",
      "1699 3750 0.0 36.8828125 -58.34375\n",
      "1799 3750 0.0 38.1875 -59.6640625\n",
      "1899 3750 0.0 39.9296875 -59.34375\n",
      "1999 3750 0.0 43.03125 -60.1484375\n",
      "2099 3750 0.0 40.0 -59.765625\n",
      "2199 3750 0.0 38.6328125 -57.8046875\n",
      "2299 3750 0.0 45.25 -60.1796875\n",
      "2399 3750 0.0 43.34375 -58.8203125\n",
      "2499 3750 0.0 43.5 -59.5078125\n",
      "2599 3750 0.0 44.25 -60.234375\n",
      "2699 3750 0.0 40.859375 -58.4375\n",
      "2799 3750 0.0 43.6328125 -58.125\n",
      "2899 3750 0.0 42.265625 -58.09375\n",
      "2999 3750 0.0 39.6171875 -57.0390625\n",
      "3099 3750 0.0 44.5859375 -57.1640625\n",
      "3199 3750 0.0 45.5703125 -60.046875\n",
      "3299 3750 0.0 40.421875 -57.25\n",
      "3399 3750 0.0 45.453125 -58.640625\n",
      "3499 3750 0.0 45.6796875 -57.671875\n",
      "3599 3750 0.0 47.1875 -58.7109375\n",
      "3699 3750 0.0 45.53125 -58.078125\n"
     ]
    }
   ],
   "source": [
    "for i, data in enumerate(loader):\n",
    "    loss, value_chosen_sum, value_rejected_sum = model_critic(**data)\n",
    "    accelerator.backward(loss)\n",
    "    accelerator.clip_grad_norm_(model_critic.parameters(), 1.0)\n",
    "    optimizer.step()\n",
    "    optimizer.zero_grad()\n",
    "\n",
    "    if (i + 1) % 100 == 0:\n",
    "        print(i, len(loader), loss.item(), value_chosen_sum,\n",
    "              value_rejected_sum)\n",
    "\n",
    "torch.save(model_critic.to('cpu'), 'model/critic')"
   ]
  }
 ],
 "metadata": {
  "kernelspec": {
   "display_name": "Python [conda env:cuda117]",
   "language": "python",
   "name": "conda-env-cuda117-py"
  },
  "language_info": {
   "codemirror_mode": {
    "name": "ipython",
    "version": 3
   },
   "file_extension": ".py",
   "mimetype": "text/x-python",
   "name": "python",
   "nbconvert_exporter": "python",
   "pygments_lexer": "ipython3",
   "version": "3.10.13"
  }
 },
 "nbformat": 4,
 "nbformat_minor": 5
}
