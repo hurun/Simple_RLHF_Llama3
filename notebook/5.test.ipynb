{
 "cells": [
  {
   "cell_type": "code",
   "execution_count": 1,
   "id": "11abe3e8",
   "metadata": {},
   "outputs": [
    {
     "name": "stderr",
     "output_type": "stream",
     "text": [
      "Special tokens have been added in the vocabulary, make sure the associated word embeddings are fine-tuned or trained.\n"
     ]
    },
    {
     "data": {
      "text/plain": [
       "(tensor([128002, 128002, 128000,   5269,    527,    499]),\n",
       " tensor([0, 0, 1, 1, 1, 1]),\n",
       " '<|reserved_special_token_0|><|reserved_special_token_0|><|begin_of_text|>how are you')"
      ]
     },
     "execution_count": 1,
     "metadata": {},
     "output_type": "execute_result"
    }
   ],
   "source": [
    "import torch\n",
    "import random\n",
    "import math\n",
    "\n",
    "from util import TokenizerUtil\n",
    "\n",
    "tokenizer = TokenizerUtil()\n",
    "\n",
    "input_ids, _ = tokenizer.encode('how are you', max_length=6)\n",
    "\n",
    "input_ids, attention_mask = tokenizer.pad_to_left(input_ids)\n",
    "\n",
    "input_ids, attention_mask, tokenizer.decode(input_ids)"
   ]
  },
  {
   "cell_type": "code",
   "execution_count": 2,
   "id": "780596d8",
   "metadata": {},
   "outputs": [
    {
     "data": {
      "text/plain": [
       "(8,\n",
       " {'prompt': 'Human: context= CREATE TABLE table_26842217_8 (result VARCHAR, site VARCHAR) question= If the site was wallace wade stadium • durham, nc, what was the result? Assistant:',\n",
       "  'chosen': 'SELECT result FROM table_26842217_8 WHERE site = \"Wallace Wade Stadium • Durham, NC\"',\n",
       "  'rejected': '',\n",
       "  'response': 'SELECT result FROM table_26842217_8 WHERE site = \"Wallace Wade Stadium • Durham, NC\"'})"
      ]
     },
     "execution_count": 2,
     "metadata": {},
     "output_type": "execute_result"
    }
   ],
   "source": [
    "import json\n",
    "\n",
    "with open('dataset/eval.json') as f:\n",
    "    lines = f.readlines()\n",
    "\n",
    "lines = random.sample(lines, k=8)\n",
    "lines = [json.loads(i) for i in lines]\n",
    "\n",
    "len(lines), lines[0]"
   ]
  },
  {
   "cell_type": "code",
   "execution_count": 3,
   "id": "ad8bfaf5",
   "metadata": {},
   "outputs": [],
   "source": [
    "%run 1.model.ipynb\n",
    "\n",
    "model_actor = torch.load('model/rlhf').to('cuda')"
   ]
  },
  {
   "cell_type": "code",
   "execution_count": 4,
   "id": "2ceb369d",
   "metadata": {},
   "outputs": [
    {
     "name": "stdout",
     "output_type": "stream",
     "text": [
      "select RESULT from TABLE_26842217_8 where SITE = \"cONTO, mIC\"<|end_of_text|>\n",
      "SELECT result FROM table_26842217_8 WHERE site = \"Wallace Wade Stadium • Durham, NC\"\n",
      "===============\n",
      "select avg(GAME) from TABLE_NAME_7 where DATE = \"MAY 24, 24\" and ATTENDANCE < 16<|end_of_text|>\n",
      "SELECT AVG(game) FROM table_name_7 WHERE date = \"february 24\" AND attendance < 16 OFFSET 541\n",
      "===============\n",
      "select STATE from TABLE_NAME_43 where TEAM = \"MONTREAL\"<|end_of_text|>\n",
      "SELECT state FROM table_name_43 WHERE team = \"mumbai\"\n",
      "===============\n",
      "select NOV from TABLE_27021082_3 where ELECTION = \"45.3\"<|end_of_text|>\n",
      "SELECT no_party_preference FROM table_27003186_3 WHERE republican = \"45.3%\"\n",
      "===============\n",
      "select count(POPULATION) from TABLE_18600760_20 where LATITUDE = \"46.46%\"<|end_of_text|>\n",
      "SELECT COUNT(ansi_code) FROM table_18600760_20 WHERE latitude = \"46.415037\"\n",
      "===============\n",
      "select FIRST_BROADCAST from TABLE_NAME_53 where ROUND = \"MONTON\"<|end_of_text|>\n",
      "SELECT first_leg FROM table_name_53 WHERE round = \"semi-final\"\n",
      "===============\n",
      "select DISTRICT from TABLE_19753079_13 where INCUMBENT = \"tEAM mIC\"<|end_of_text|>\n",
      "SELECT district FROM table_19753079_13 WHERE incumbent = \"John Linder\"\n",
      "===============\n",
      "select max(APPS) from TABLE_NAME_7 where POS = 8 and SEASON = 2012<|end_of_text|>\n",
      "SELECT MAX(apps) FROM table_name_7 WHERE rank = 8 AND season = \"2012/13\"\n",
      "===============\n"
     ]
    }
   ],
   "source": [
    "from util import get_generate\n",
    "\n",
    "for data in lines:\n",
    "    input_ids, _ = tokenizer.encode(data['prompt'], max_length=128)\n",
    "    input_ids, attention_mask = tokenizer.pad_to_left(input_ids)\n",
    "\n",
    "    input_ids = input_ids.unsqueeze(0).to('cuda')\n",
    "    attention_mask = attention_mask.unsqueeze(0).to('cuda')\n",
    "\n",
    "    generate = get_generate(model_actor,\n",
    "                            input_ids,\n",
    "                            tokenizer.eos_token_id,\n",
    "                            tokenizer.pad_token_id,\n",
    "                            max_length=256)\n",
    "\n",
    "    generate = generate[0, 128:].to('cpu')\n",
    "\n",
    "    print(tokenizer.decode(generate))\n",
    "    print(data['chosen'])\n",
    "    print('===============')"
   ]
  }
 ],
 "metadata": {
  "kernelspec": {
   "display_name": "Python [conda env:cuda117]",
   "language": "python",
   "name": "conda-env-cuda117-py"
  },
  "language_info": {
   "codemirror_mode": {
    "name": "ipython",
    "version": 3
   },
   "file_extension": ".py",
   "mimetype": "text/x-python",
   "name": "python",
   "nbconvert_exporter": "python",
   "pygments_lexer": "ipython3",
   "version": "3.10.13"
  }
 },
 "nbformat": 4,
 "nbformat_minor": 5
}
